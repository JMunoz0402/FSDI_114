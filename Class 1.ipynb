{
 "cells": [
  {
   "cell_type": "code",
   "execution_count": 4,
   "id": "b41fcfd2-db09-48a6-b01f-49b3a6b16366",
   "metadata": {},
   "outputs": [
    {
     "name": "stdout",
     "output_type": "stream",
     "text": [
      "h\n",
      "e\n",
      "l\n",
      "l\n",
      "o\n",
      ",\n",
      " \n",
      "w\n",
      "o\n",
      "r\n",
      "l\n",
      "d\n"
     ]
    }
   ],
   "source": [
    "for char in \"hello, world\":\n",
    "    print(char)\n",
    "# Press shift+enter"
   ]
  },
  {
   "cell_type": "markdown",
   "id": "839dc7be-784e-4180-9a0a-8f39b9f32337",
   "metadata": {},
   "source": [
    "# Problem 1\n",
    "\n",
    "## Anagram Check\n",
    "\n",
    "Given two strings, determine if these anagrams of each other. Your function should return True, if these are anagrams of each other, False otherwise.\n",
    "\n",
    "### Criteria\n",
    "Two strings are anagrams of each other, if *all* the criteria below are met:\n",
    "1. They must contain the same number of letters the same amount of times.\n",
    "2. They must be of equal length.\n",
    "\n",
    "```\n",
    "Examples:\n",
    "cars and scar\n",
    "star and rats\n",
    "earth and heart\n",
    "\n",
    "BUT ALSO:\n",
    "I am Lord Voldemort and Tom Marvolo Riddle\n",
    "``"
   ]
  },
  {
   "cell_type": "code",
   "execution_count": 6,
   "id": "84d02e1f-e0d9-41f6-90f2-1ffdf730fafe",
   "metadata": {},
   "outputs": [],
   "source": [
    "# This is a poor solution to this problem:\n",
    "def anagram_check(str1, str2):\n",
    "    return sorted(str1) == sorted(str2)"
   ]
  },
  {
   "cell_type": "code",
   "execution_count": 1,
   "id": "39851dd0-da6b-4b86-9314-dfbdeee11649",
   "metadata": {},
   "outputs": [],
   "source": [
    "def are_anagrams(str1, str2):\n",
    "    \n",
    "    str1 = str1.replace(\" \", \"\").lower()\n",
    "    str2 = str2.replace(\" \", \"\").lower()\n",
    "    \n",
    "    if len(str1) != len(str2):\n",
    "        return False"
   ]
  },
  {
   "cell_type": "code",
   "execution_count": 3,
   "id": "e2454002-8a68-4b65-9c80-60f77b39abb1",
   "metadata": {},
   "outputs": [
    {
     "ename": "NameError",
     "evalue": "name 'anagram_check' is not defined",
     "output_type": "error",
     "traceback": [
      "\u001b[0;31m---------------------------------------------------------------------------\u001b[0m",
      "\u001b[0;31mNameError\u001b[0m                                 Traceback (most recent call last)",
      "Cell \u001b[0;32mIn[3], line 1\u001b[0m\n\u001b[0;32m----> 1\u001b[0m \u001b[43managram_check\u001b[49m (\u001b[38;5;124m\"\u001b[39m\u001b[38;5;124m I am Lord Voldemort \u001b[39m\u001b[38;5;124m\"\u001b[39m, \u001b[38;5;124m\"\u001b[39m\u001b[38;5;124m Tom Marvolo Riddle \u001b[39m\u001b[38;5;124m\"\u001b[39m)\n",
      "\u001b[0;31mNameError\u001b[0m: name 'anagram_check' is not defined"
     ]
    }
   ],
   "source": [
    " anagram_check (\" I am Lord Voldemort \", \" Tom Marvolo Riddle \")"
   ]
  },
  {
   "cell_type": "code",
   "execution_count": 8,
   "id": "f7a233ac-5b8d-4549-9b6d-1dc350163cba",
   "metadata": {},
   "outputs": [],
   "source": [
    "def anagram_check(str1, str2):\n",
    "    \n",
    "    str1 = str1.replace(\" \", \"\").lower()\n",
    "    str2 = str2.replace(\" \", \"\").lower()\n",
    "    return sorted (str1) == sorted (str2)"
   ]
  },
  {
   "cell_type": "code",
   "execution_count": 6,
   "id": "4eef39a5-55cc-4fa2-a30f-48dbfe718438",
   "metadata": {},
   "outputs": [
    {
     "ename": "NameError",
     "evalue": "name 'anagram_check' is not defined",
     "output_type": "error",
     "traceback": [
      "\u001b[0;31m---------------------------------------------------------------------------\u001b[0m",
      "\u001b[0;31mNameError\u001b[0m                                 Traceback (most recent call last)",
      "Cell \u001b[0;32mIn[6], line 1\u001b[0m\n\u001b[0;32m----> 1\u001b[0m \u001b[43managram_check\u001b[49m (\u001b[38;5;124m\"\u001b[39m\u001b[38;5;124mI am Lord Voldemort\u001b[39m\u001b[38;5;124m\"\u001b[39m, \u001b[38;5;124m\"\u001b[39m\u001b[38;5;124mTom Marvolo Riddle\u001b[39m\u001b[38;5;124m\"\u001b[39m)\n",
      "\u001b[0;31mNameError\u001b[0m: name 'anagram_check' is not defined"
     ]
    }
   ],
   "source": [
    " anagram_check (\"I am Lord Voldemort\", \"Tom Marvolo Riddle\")"
   ]
  },
  {
   "cell_type": "code",
   "execution_count": 7,
   "id": "0a237f4c-487d-4004-817a-a86f352e8978",
   "metadata": {},
   "outputs": [
    {
     "ename": "NameError",
     "evalue": "name 'anagram_check' is not defined",
     "output_type": "error",
     "traceback": [
      "\u001b[0;31m---------------------------------------------------------------------------\u001b[0m",
      "\u001b[0;31mNameError\u001b[0m                                 Traceback (most recent call last)",
      "Cell \u001b[0;32mIn[7], line 1\u001b[0m\n\u001b[0;32m----> 1\u001b[0m \u001b[43managram_check\u001b[49m (\u001b[38;5;124m\"\u001b[39m\u001b[38;5;124mI am Lord Voldemort\u001b[39m\u001b[38;5;124m\"\u001b[39m, \u001b[38;5;124m\"\u001b[39m\u001b[38;5;124mTom Marvolo Riddle\u001b[39m\u001b[38;5;124m\"\u001b[39m)\n",
      "\u001b[0;31mNameError\u001b[0m: name 'anagram_check' is not defined"
     ]
    }
   ],
   "source": [
    " anagram_check (\"I am Lord Voldemort\", \"Tom Marvolo Riddle\")\n"
   ]
  },
  {
   "cell_type": "code",
   "execution_count": 9,
   "id": "ff2e5ec5-d89e-4729-9a66-8c87aae36c96",
   "metadata": {},
   "outputs": [
    {
     "data": {
      "text/plain": [
       "True"
      ]
     },
     "execution_count": 9,
     "metadata": {},
     "output_type": "execute_result"
    }
   ],
   "source": [
    " anagram_check (\"I am Lord Voldemort\", \"Tom Marvolo Riddle\")"
   ]
  },
  {
   "cell_type": "code",
   "execution_count": 10,
   "id": "4c3daf9e-d277-40d5-bb5c-850fc30e51b3",
   "metadata": {},
   "outputs": [
    {
     "data": {
      "text/plain": [
       "'a'"
      ]
     },
     "execution_count": 10,
     "metadata": {},
     "output_type": "execute_result"
    }
   ],
   "source": [
    "#Based on ASCII:\n",
    "# To convert from characters to numbers:\n",
    "ord(\"A\")\n",
    "# To convert from numbers to characters\n",
    "chr(65+32)"
   ]
  },
  {
   "cell_type": "code",
   "execution_count": 1,
   "id": "6a27e220-6f9f-42b8-ae88-2ce6571f6573",
   "metadata": {},
   "outputs": [],
   "source": [
    "# define function anagram _check with parameters: (str) string1 and string2\n",
    "# string1 = string1 in lower case without spaces\n",
    "# string2 = string2 in lower case without spaces \n",
    "# if the length of string1 is not equal to the length of string2:\n",
    "#     return False\n",
    "# otherwise:\n",
    "#     dictionary1 = new dictionary\n",
    "#     dictionary2 = new dictionary\n",
    "#     for each \"number\" in the range from 0 to the length of string1\n",
    "#           if the character at position number in string1 is not in dictionary1 \n",
    "#              create a new entry  for that character in dictionary1, and set the value for it to 1\n",
    "#           otherwise:\n",
    "#              add 1 to the value associated with thata character in dictionary1\n",
    "#           if the character at position number in string2 is not in dictionary2\n",
    "#              create a new entry  for that character in dictionary2, and set the value for it to 1\n",
    "#           otherwise:\n",
    "#              add 1 to the value associated with thata character in dictionary2\n",
    "#       if dictionary1  is not equal to dictionary2 \n",
    "#           return False\n",
    "#        otherwise:\n",
    "#           return True\n"
   ]
  },
  {
   "cell_type": "code",
   "execution_count": 6,
   "id": "3013f51d-2759-43bc-bedf-ef12e7324a39",
   "metadata": {},
   "outputs": [],
   "source": [
    "def anagram_check(str1, str2):\n",
    "    str1 = str1.replace(\" \", \"\").lower()\n",
    "    str2 = str2.replace(\" \", \"\").lower()\n",
    "    if len(str1) != len(str2):\n",
    "        return False\n",
    "    dict1 = {}\n",
    "    dict2 = {}\n",
    "    for index in range(len(str1)):\n",
    "        if str1[index] not in dict1:\n",
    "            dict1[str1[index]] = 1\n",
    "        else:\n",
    "            dict1[str1[index]] += 1\n",
    "    for index in range(len(str1)):\n",
    "        if str2[index] not in dict2:\n",
    "            dict2[str2[index]] = 1\n",
    "        else:\n",
    "            dict2[str2[index]] += 1\n",
    "    return dict1 == dict2"
   ]
  },
  {
   "cell_type": "code",
   "execution_count": 7,
   "id": "572f83ae-380a-4227-8455-149254a1b8e9",
   "metadata": {},
   "outputs": [
    {
     "data": {
      "text/plain": [
       "True"
      ]
     },
     "execution_count": 7,
     "metadata": {},
     "output_type": "execute_result"
    }
   ],
   "source": [
    "anagram_check(\"I am Lord Voldemort\", \"Tom Marvolo Riddle\")"
   ]
  },
  {
   "cell_type": "code",
   "execution_count": null,
   "id": "946b0005-6810-4ee3-99ff-c439fee602c0",
   "metadata": {},
   "outputs": [],
   "source": []
  }
 ],
 "metadata": {
  "kernelspec": {
   "display_name": "Python 3 (ipykernel)",
   "language": "python",
   "name": "python3"
  },
  "language_info": {
   "codemirror_mode": {
    "name": "ipython",
    "version": 3
   },
   "file_extension": ".py",
   "mimetype": "text/x-python",
   "name": "python",
   "nbconvert_exporter": "python",
   "pygments_lexer": "ipython3",
   "version": "3.13.0"
  }
 },
 "nbformat": 4,
 "nbformat_minor": 5
}
